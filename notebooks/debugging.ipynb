{
 "cells": [
  {
   "cell_type": "markdown",
   "metadata": {},
   "source": [
    "# Task: add importance sampling capability\n",
    "\n",
    "## 1. The original 2-qubit biased erasure noise model at erasure error rate of $p_e$ is injected as such\n",
    "\n",
    "with probability $p_e/2 * (1- p_e)$, inject these four events:\n",
    "\n",
    "    II herald 1, ZI herald 1, II herald 2, IZ herald 2,\n",
    "\n",
    "with probability $(p_e/2)^2$, inject these four events:\n",
    "\n",
    "    II double herald, IZ double herald, ZI double herald, ZZ double herald\n",
    "\n",
    "which means there's on average $4*p_e/2 * (1- p_e) + 8*(p_e/2)^2 = 2p_e$ erasure after a 2-qubit gate\n",
    "\n",
    "\n",
    "## 2. Sample_decode_job need to have attribute of num_Erasure and num_DEPOLARIZE2\n",
    "\n",
    "\n",
    "### 1. how do erasure error mechanism behave when it's set to be erroneous?\n",
    "\n",
    "Note that, it is WRONG to simply set $p_e = 1$ and inject these four events with probability $1/4$:\n",
    "\n",
    "    II double herald, IZ double herald, ZI double herald, ZZ double herald\n",
    "\n",
    "because most erasures exist in the form of single erasure, not double erasure\n",
    "\n",
    "Therefore, every single erasure error mechanism should take in two bit of information during importance sampling\n",
    "\n",
    "\n",
    "### 2. how do erasure error mechanism behave when it's set to be erroneous?\n",
    "\n",
    "the original DEPOLARIZE2 introduces $24/15p_p = 8/5p_p$ Pauli errors, and if we view Y error as one X and one Z, that's $32/15p_p$ edges to be flipped in the matching graph.\n",
    "\n",
    "But this detail is irrelevant. if we roll a dice we selected a DEPOLARIZE2 to be triggered, we just set $p_p$ = 1.\n",
    "\n",
    "### 3. how to compute the weight of the logical error rate associated with samples of (num_Erasure = e, num_DEPOLARIZE2 = p)?\n",
    "\n",
    "$A_{e,p}(p_e, p_p) = \\binom{n_e}{e} p_e^e (1 - p_e)^{n_e - e} \\times \\binom{n_p}{p} p_p^t (1 - p_p)^{n_p - p}$\n",
    "\n",
    "where $n_e$, $n_p$ is the total number of potential erasure/DEPOLARIZE2 error locations. \n",
    "\n",
    "For the circuit concerned, we have d noisy rounds, so there's $4*((d-1)^2+d)$ 2-qubit gates per round, and a total of $4d*((d-1)^2+d)$ 2-qubit gates\n",
    "\n"
   ]
  },
  {
   "cell_type": "markdown",
   "metadata": {},
   "source": [
    "### 4. How to actually do the sampling? \n",
    "\n",
    "I need some sort of np.array to encode those potential error locations and then randomlly choose a certain number of them to flip\n",
    "\n",
    "first, I need to create that numpy array\n"
   ]
  },
  {
   "cell_type": "code",
   "execution_count": 1,
   "metadata": {},
   "outputs": [],
   "source": [
    "from surface_erasure_decoding import *"
   ]
  },
  {
   "cell_type": "code",
   "execution_count": 2,
   "metadata": {},
   "outputs": [],
   "source": [
    "d = 3\n",
    "after_cz_error_model = get_2q_error_model(p_e=0.01,\n",
    "                                            p_z_shift=0, \n",
    "                                            p_p=0.001)\n",
    "builder = easure_circ_builder(rounds = d,\n",
    "                                distance= d,\n",
    "                                after_cz_error_model=after_cz_error_model,\n",
    "                                measurement_error=0\n",
    "                                )\n",
    "builder.generate_circuit_and_decoding_info()"
   ]
  }
 ],
 "metadata": {
  "kernelspec": {
   "display_name": "qec_sim",
   "language": "python",
   "name": "python3"
  },
  "language_info": {
   "codemirror_mode": {
    "name": "ipython",
    "version": 3
   },
   "file_extension": ".py",
   "mimetype": "text/x-python",
   "name": "python",
   "nbconvert_exporter": "python",
   "pygments_lexer": "ipython3",
   "version": "3.10.14"
  }
 },
 "nbformat": 4,
 "nbformat_minor": 2
}
