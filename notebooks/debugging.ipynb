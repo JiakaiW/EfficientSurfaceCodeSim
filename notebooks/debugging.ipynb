{
 "cells": [
  {
   "cell_type": "markdown",
   "metadata": {},
   "source": [
    "## 2. Sample_decode_job need to have attribute of num_Erasure and num_DEPOLARIZE2\n",
    "\n",
    "\n",
    "### 1. how do erasure error mechanism behave when it's set to be erroneous?\n",
    "\n",
    "Note that, it is WRONG to simply set $p_e = 1$ and inject these four events with probability $1/4$:\n",
    "\n",
    "    II double herald, IZ double herald, ZI double herald, ZZ double herald\n",
    "\n",
    "because most erasures exist in the form of single erasure, not double erasure\n",
    "\n",
    "Therefore, every single erasure error mechanism should take in two bit of information during importance sampling\n",
    "\n",
    "\n",
    "### 2. how do Depolarize2 error mechanism behave when it's set to be erroneous?\n",
    "\n",
    "the original DEPOLARIZE2 introduces $24/15p_p = 8/5p_p$ Pauli errors, and if we view Y error as one X and one Z, that's $32/15p_p$ edges to be flipped in the matching graph.\n",
    "\n",
    "But this detail is irrelevant. if we roll a dice we selected a DEPOLARIZE2 to be triggered, we just set $p_p$ = 1.\n",
    "\n",
    "### 3. how to compute the weight of the logical error rate associated with samples of (num_Erasure = e, num_DEPOLARIZE2 = p)?\n",
    "\n",
    "$A_{e,p}(p_e, p_p) = \\binom{n_e}{e} p_e^e (1 - p_e)^{n_e - e} \\times \\binom{n_p}{p} p_p^t (1 - p_p)^{n_p - p}$\n",
    "\n",
    "where $n_e$, $n_p$ is the total number of potential erasure/DEPOLARIZE2 error locations. \n",
    "\n",
    "For the circuit concerned, we have d noisy rounds, so there's $4*((d-1)^2+d)$ 2-qubit gates per round, and a total of $4d*((d-1)^2+d)$ 2-qubit gates\n",
    "\n",
    "### 4. How to actually do the sampling? \n",
    "\n",
    "I need some sort of np.array to encode those potential error locations and then randomlly choose a certain number of them to flip\n",
    "\n",
    "first, I need to create that numpy array\n"
   ]
  },
  {
   "cell_type": "markdown",
   "metadata": {},
   "source": [
    "# Step-1 do a rough test that the new instruction generators are working"
   ]
  },
  {
   "cell_type": "code",
   "execution_count": 1,
   "metadata": {},
   "outputs": [],
   "source": [
    "import sys\n",
    "sys.path.append('..')\n",
    "from surface_erasure_decoding import *\n",
    "from IPython.display import clear_output\n"
   ]
  },
  {
   "cell_type": "code",
   "execution_count": 5,
   "metadata": {},
   "outputs": [],
   "source": [
    "d = 5\n",
    "after_cz_error_model = get_2q_error_model(p_e=0.03,\n",
    "                                            p_z_shift=0, \n",
    "                                            p_p=0.002)\n",
    "builder = easure_circ_builder(rounds = d,\n",
    "                                distance= d,\n",
    "                                after_cz_error_model=after_cz_error_model,\n",
    "                                measurement_error=0\n",
    "                                )\n",
    "builder.generate_circuit_and_decoding_info()\n",
    "builder.gen_erasure_conversion_circuit()"
   ]
  },
  {
   "cell_type": "code",
   "execution_count": 6,
   "metadata": {},
   "outputs": [
    {
     "name": "stdout",
     "output_type": "stream",
     "text": [
      "decoding finished 99.0%\n"
     ]
    }
   ],
   "source": [
    "shots = 100\n",
    "\n",
    "sampler = builder.erasure_circuit.compile_sampler()#expensive step, 16s for d13, 4s for d11, 0.7s for d9\n",
    "meas_samples = sampler.sample(shots=shots)\n",
    "converter = builder.erasure_circuit.compile_m2d_converter() # Expensive step\n",
    "\n",
    "det_samples, actual_obs_chunk = converter.convert(measurements=meas_samples,\n",
    "                                                        separate_observables=True)\n",
    "new_circ_num_errors = 0\n",
    "for i in range(shots):\n",
    "    predicted  = builder.decode_by_generate_new_circ(det_samples[i],'S',meas_samples[i])\n",
    "    new_circ_num_errors += actual_obs_chunk[i][0] != predicted\n",
    "    clear_output(wait=True)\n",
    "    print(f'decoding finished {100*i/shots}%')\n"
   ]
  },
  {
   "cell_type": "code",
   "execution_count": 8,
   "metadata": {},
   "outputs": [
    {
     "data": {
      "text/plain": [
       "0"
      ]
     },
     "execution_count": 8,
     "metadata": {},
     "output_type": "execute_result"
    }
   ],
   "source": [
    "new_circ_num_errors"
   ]
  },
  {
   "cell_type": "code",
   "execution_count": null,
   "metadata": {},
   "outputs": [],
   "source": []
  },
  {
   "cell_type": "code",
   "execution_count": 4,
   "metadata": {},
   "outputs": [
    {
     "ename": "AttributeError",
     "evalue": "'easure_circ_builder' object has no attribute 'erasure_circuit'",
     "output_type": "error",
     "traceback": [
      "\u001b[0;31m---------------------------------------------------------------------------\u001b[0m",
      "\u001b[0;31mAttributeError\u001b[0m                            Traceback (most recent call last)",
      "Cell \u001b[0;32mIn[4], line 2\u001b[0m\n\u001b[1;32m      1\u001b[0m t0 \u001b[38;5;241m=\u001b[39m time\u001b[38;5;241m.\u001b[39mtime()\n\u001b[0;32m----> 2\u001b[0m sampler \u001b[38;5;241m=\u001b[39m \u001b[43mbuilder\u001b[49m\u001b[38;5;241;43m.\u001b[39;49m\u001b[43merasure_circuit\u001b[49m\u001b[38;5;241m.\u001b[39mcompile_sampler()\u001b[38;5;66;03m#expensive step, 16s for d13, 4s for d11, 0.7s for d9\u001b[39;00m\n\u001b[1;32m      4\u001b[0m t1 \u001b[38;5;241m=\u001b[39m time\u001b[38;5;241m.\u001b[39mtime()\n\u001b[1;32m      5\u001b[0m meas_samples \u001b[38;5;241m=\u001b[39m sampler\u001b[38;5;241m.\u001b[39msample(shots\u001b[38;5;241m=\u001b[39mshots)\n",
      "\u001b[0;31mAttributeError\u001b[0m: 'easure_circ_builder' object has no attribute 'erasure_circuit'"
     ]
    }
   ],
   "source": [
    "t0 = time.time()\n",
    "sampler = builder.erasure_circuit.compile_sampler()#expensive step, 16s for d13, 4s for d11, 0.7s for d9\n",
    "\n",
    "t1 = time.time()\n",
    "meas_samples = sampler.sample(shots=shots)\n",
    "t15 = time.time()\n",
    "converter = builder.erasure_circuit.compile_m2d_converter() # Expensive step\n",
    "\n",
    "t2 = time.time()\n",
    "det_samples, actual_obs_chunk = converter.convert(measurements=meas_samples,\n",
    "                                                        separate_observables=True)\n",
    "t3 = time.time()\n",
    "# Decode\n",
    "new_circ_num_errors = 0\n",
    "# normal_circ_num_errors = 0\n",
    "for i in range(shots):\n",
    "    predicted  = builder.decode_by_generate_new_circ(det_samples[i],'S',meas_samples[i])\n",
    "    new_circ_num_errors += actual_obs_chunk[i][0] != predicted\n",
    "\n",
    "    # predicted = builder.decode_without_changing_weights(det_samples[i],'S',meas_samples[i])\n",
    "    # normal_circ_num_errors += actual_obs_chunk[i][0] != predicted\n",
    "\n",
    "    clear_output(wait=True)\n",
    "    print(f'decoding finished {100*i/shots}%')\n",
    "\n",
    "t4 = time.time()"
   ]
  },
  {
   "cell_type": "code",
   "execution_count": 7,
   "metadata": {},
   "outputs": [
    {
     "data": {
      "text/plain": [
       "4"
      ]
     },
     "execution_count": 7,
     "metadata": {},
     "output_type": "execute_result"
    }
   ],
   "source": [
    "new_circ_num_errors"
   ]
  },
  {
   "cell_type": "markdown",
   "metadata": {},
   "source": [
    "# generating circuit for importance sampling\n",
    "\n",
    "### Step-1 Count how many times a certain error mechanism is triggered by calling builder.gen_dummy_circuit()\n",
    "\n",
    "then I can access the number of times by doing mechanism.dummy_generator.num_qubit_called\n",
    "```\n",
    "if isinstance(attr_value, GateErrorModel):\n",
    "    if not  attr_value.trivial:\n",
    "        print(attr_name)\n",
    "        for mechanism in attr_value.list_of_mechanisms:\n",
    "            print(mechanism.name)\n",
    "            print(mechanism.dummy_generator.num_qubit_called)\n",
    "```\n",
    "\n",
    "For every mechanism in non-trivial GateErrorModel(s), I can generate an array. "
   ]
  },
  {
   "cell_type": "code",
   "execution_count": 4,
   "metadata": {},
   "outputs": [
    {
     "ename": "TypeError",
     "evalue": "'int' object is not subscriptable",
     "output_type": "error",
     "traceback": [
      "\u001b[0;31m---------------------------------------------------------------------------\u001b[0m",
      "\u001b[0;31mTypeError\u001b[0m                                 Traceback (most recent call last)",
      "Cell \u001b[0;32mIn[4], line 62\u001b[0m\n\u001b[1;32m     59\u001b[0m non_trivial_gate_error_models[\u001b[38;5;241m0\u001b[39m]\u001b[38;5;241m.\u001b[39mname_to_mechanism[\u001b[38;5;124m'\u001b[39m\u001b[38;5;124m2q depo\u001b[39m\u001b[38;5;124m'\u001b[39m]\u001b[38;5;241m.\u001b[39msingle_dice_sample \u001b[38;5;241m=\u001b[39m p_dice_sample\n\u001b[1;32m     61\u001b[0m builder\u001b[38;5;241m.\u001b[39mdeterministic_circuit \u001b[38;5;241m=\u001b[39m stim\u001b[38;5;241m.\u001b[39mCircuit()\n\u001b[0;32m---> 62\u001b[0m \u001b[43mbuilder\u001b[49m\u001b[38;5;241;43m.\u001b[39;49m\u001b[43mgen_circuit\u001b[49m\u001b[43m(\u001b[49m\u001b[43mbuilder\u001b[49m\u001b[38;5;241;43m.\u001b[39;49m\u001b[43mdeterministic_circuit\u001b[49m\u001b[43m,\u001b[49m\u001b[43mmode\u001b[49m\u001b[38;5;241;43m=\u001b[39;49m\u001b[38;5;124;43m'\u001b[39;49m\u001b[38;5;124;43mdeterministic\u001b[39;49m\u001b[38;5;124;43m'\u001b[39;49m\u001b[43m)\u001b[49m\n\u001b[1;32m     64\u001b[0m sampler \u001b[38;5;241m=\u001b[39m builder\u001b[38;5;241m.\u001b[39mdeterministic_circuit\u001b[38;5;241m.\u001b[39mcompile_sampler()\n\u001b[1;32m     65\u001b[0m meas_samples \u001b[38;5;241m=\u001b[39m sampler\u001b[38;5;241m.\u001b[39msample(shots\u001b[38;5;241m=\u001b[39m\u001b[38;5;241m1\u001b[39m)\n",
      "File \u001b[0;32m~/Documents/GitHub/surface_erasure_decoding/notebooks/../surface_erasure_decoding/circuit_builder.py:611\u001b[0m, in \u001b[0;36measure_circ_builder.gen_circuit\u001b[0;34m(self, circuit, mode)\u001b[0m\n\u001b[1;32m    608\u001b[0m         list_of_records\u001b[38;5;241m.\u001b[39mappend(stim\u001b[38;5;241m.\u001b[39mtarget_rec(\u001b[38;5;241m-\u001b[39mobs))\n\u001b[1;32m    609\u001b[0m     circuit\u001b[38;5;241m.\u001b[39mappend(\u001b[38;5;124m\"\u001b[39m\u001b[38;5;124mOBSERVABLE_INCLUDE\u001b[39m\u001b[38;5;124m\"\u001b[39m, list_of_records, \u001b[38;5;241m0\u001b[39m)\n\u001b[0;32m--> 611\u001b[0m \u001b[43mbuild_circ\u001b[49m\u001b[43m(\u001b[49m\u001b[43m)\u001b[49m\n",
      "File \u001b[0;32m~/Documents/GitHub/surface_erasure_decoding/notebooks/../surface_erasure_decoding/circuit_builder.py:555\u001b[0m, in \u001b[0;36measure_circ_builder.gen_circuit.<locals>.build_circ\u001b[0;34m()\u001b[0m\n\u001b[1;32m    551\u001b[0m \u001b[38;5;66;03m###################################################\u001b[39;00m\n\u001b[1;32m    552\u001b[0m \u001b[38;5;66;03m# Build the repeated noisy body of the circuit, including the detectors comparing to previous cycles.\u001b[39;00m\n\u001b[1;32m    553\u001b[0m \u001b[38;5;66;03m###################################################\u001b[39;00m\n\u001b[1;32m    554\u001b[0m \u001b[38;5;28;01mfor\u001b[39;00m _ \u001b[38;5;129;01min\u001b[39;00m \u001b[38;5;28mrange\u001b[39m(\u001b[38;5;28mself\u001b[39m\u001b[38;5;241m.\u001b[39mrounds\u001b[38;5;241m-\u001b[39m\u001b[38;5;28mself\u001b[39m\u001b[38;5;241m.\u001b[39mSPAM): \u001b[38;5;66;03m# The rest noisy rounds\u001b[39;00m\n\u001b[0;32m--> 555\u001b[0m     \u001b[43mappend_cycle_actions\u001b[49m\u001b[43m(\u001b[49m\u001b[43mnoisy\u001b[49m\u001b[38;5;241;43m=\u001b[39;49m\u001b[38;5;28;43;01mTrue\u001b[39;49;00m\u001b[43m)\u001b[49m\n\u001b[1;32m    556\u001b[0m     circuit\u001b[38;5;241m.\u001b[39mappend(\u001b[38;5;124m\"\u001b[39m\u001b[38;5;124mSHIFT_COORDS\u001b[39m\u001b[38;5;124m\"\u001b[39m, [], [\u001b[38;5;241m0\u001b[39m, \u001b[38;5;241m0\u001b[39m, \u001b[38;5;241m1\u001b[39m])\n\u001b[1;32m    557\u001b[0m     m \u001b[38;5;241m=\u001b[39m \u001b[38;5;28mlen\u001b[39m(\u001b[38;5;28mself\u001b[39m\u001b[38;5;241m.\u001b[39mhelper\u001b[38;5;241m.\u001b[39mmeasurement_qubits)\n",
      "File \u001b[0;32m~/Documents/GitHub/surface_erasure_decoding/notebooks/../surface_erasure_decoding/circuit_builder.py:513\u001b[0m, in \u001b[0;36measure_circ_builder.gen_circuit.<locals>.append_cycle_actions\u001b[0;34m(noisy)\u001b[0m\n\u001b[1;32m    511\u001b[0m \u001b[38;5;28;01mfor\u001b[39;00m \u001b[38;5;28mdict\u001b[39m \u001b[38;5;129;01min\u001b[39;00m \u001b[38;5;28mself\u001b[39m\u001b[38;5;241m.\u001b[39mhelper\u001b[38;5;241m.\u001b[39mtwo_q_gate_targets:  \u001b[38;5;66;03m# a dict is like {'CX':[control0,target0,control1,target1,....],'CZ':[control0,target0,control1,target1,....]}\u001b[39;00m\n\u001b[1;32m    512\u001b[0m     \u001b[38;5;28;01mif\u001b[39;00m \u001b[38;5;28mdict\u001b[39m[\u001b[38;5;124m'\u001b[39m\u001b[38;5;124mCX\u001b[39m\u001b[38;5;124m'\u001b[39m] \u001b[38;5;241m!=\u001b[39m []:\n\u001b[0;32m--> 513\u001b[0m         \u001b[43mappend_cnot\u001b[49m\u001b[43m(\u001b[49m\u001b[38;5;28;43mdict\u001b[39;49m\u001b[43m[\u001b[49m\u001b[38;5;124;43m'\u001b[39;49m\u001b[38;5;124;43mCX\u001b[39;49m\u001b[38;5;124;43m'\u001b[39;49m\u001b[43m]\u001b[49m\u001b[43m,\u001b[49m\u001b[43m \u001b[49m\u001b[43mnoisy\u001b[49m\u001b[43m)\u001b[49m\n\u001b[1;32m    514\u001b[0m     \u001b[38;5;28;01mif\u001b[39;00m \u001b[38;5;28mdict\u001b[39m[\u001b[38;5;124m'\u001b[39m\u001b[38;5;124mCZ\u001b[39m\u001b[38;5;124m'\u001b[39m] \u001b[38;5;241m!=\u001b[39m []:\n\u001b[1;32m    515\u001b[0m         append_cz(\u001b[38;5;28mdict\u001b[39m[\u001b[38;5;124m'\u001b[39m\u001b[38;5;124mCZ\u001b[39m\u001b[38;5;124m'\u001b[39m], noisy)\n",
      "File \u001b[0;32m~/Documents/GitHub/surface_erasure_decoding/notebooks/../surface_erasure_decoding/circuit_builder.py:471\u001b[0m, in \u001b[0;36measure_circ_builder.gen_circuit.<locals>.append_cnot\u001b[0;34m(qubits, noisy)\u001b[0m\n\u001b[1;32m    469\u001b[0m \u001b[38;5;66;03m# control_target_pairs = list(zip(control_qubits,target_qubits ))\u001b[39;00m\n\u001b[1;32m    470\u001b[0m append_H(target_qubits, noisy\u001b[38;5;241m=\u001b[39mnoisy)\n\u001b[0;32m--> 471\u001b[0m \u001b[43mappend_cz\u001b[49m\u001b[43m(\u001b[49m\u001b[43mqubits\u001b[49m\u001b[43m,\u001b[49m\u001b[43m \u001b[49m\u001b[43mnoisy\u001b[49m\u001b[38;5;241;43m=\u001b[39;49m\u001b[43mnoisy\u001b[49m\u001b[43m)\u001b[49m\n\u001b[1;32m    472\u001b[0m append_H(target_qubits, noisy\u001b[38;5;241m=\u001b[39mnoisy)\n",
      "File \u001b[0;32m~/Documents/GitHub/surface_erasure_decoding/notebooks/../surface_erasure_decoding/circuit_builder.py:479\u001b[0m, in \u001b[0;36measure_circ_builder.gen_circuit.<locals>.append_cz\u001b[0;34m(qubits, noisy)\u001b[0m\n\u001b[1;32m    477\u001b[0m circuit\u001b[38;5;241m.\u001b[39mappend(\u001b[38;5;124m'\u001b[39m\u001b[38;5;124mCZ\u001b[39m\u001b[38;5;124m'\u001b[39m, qubits)\n\u001b[1;32m    478\u001b[0m \u001b[38;5;28;01mif\u001b[39;00m noisy \u001b[38;5;129;01mand\u001b[39;00m \u001b[38;5;129;01mnot\u001b[39;00m \u001b[38;5;28mself\u001b[39m\u001b[38;5;241m.\u001b[39mafter_cz_error_model\u001b[38;5;241m.\u001b[39mtrivial:\n\u001b[0;32m--> 479\u001b[0m     list_of_args \u001b[38;5;241m=\u001b[39m \u001b[38;5;28;43mself\u001b[39;49m\u001b[38;5;241;43m.\u001b[39;49m\u001b[43mafter_cz_error_model\u001b[49m\u001b[38;5;241;43m.\u001b[39;49m\u001b[43mget_instruction\u001b[49m\u001b[43m(\u001b[49m\u001b[43mqubits\u001b[49m\u001b[43m \u001b[49m\u001b[38;5;241;43m=\u001b[39;49m\u001b[43m \u001b[49m\u001b[43mqubits\u001b[49m\u001b[43m,\u001b[49m\n\u001b[1;32m    480\u001b[0m \u001b[43m                                                                \u001b[49m\u001b[43mmode\u001b[49m\u001b[38;5;241;43m=\u001b[39;49m\u001b[43mmode\u001b[49m\u001b[43m,\u001b[49m\n\u001b[1;32m    481\u001b[0m \u001b[43m                                                                \u001b[49m\u001b[43m)\u001b[49m\n\u001b[1;32m    482\u001b[0m     \u001b[38;5;28;01mfor\u001b[39;00m args \u001b[38;5;129;01min\u001b[39;00m list_of_args:\n\u001b[1;32m    483\u001b[0m         circuit\u001b[38;5;241m.\u001b[39mappend(\u001b[38;5;241m*\u001b[39margs)\n",
      "File \u001b[0;32m~/Documents/GitHub/surface_erasure_decoding/notebooks/../surface_erasure_decoding/error_model.py:120\u001b[0m, in \u001b[0;36mGateErrorModel.get_instruction\u001b[0;34m(self, qubits, mode)\u001b[0m\n\u001b[1;32m    118\u001b[0m list_of_args \u001b[38;5;241m=\u001b[39m []\n\u001b[1;32m    119\u001b[0m \u001b[38;5;28;01mfor\u001b[39;00m mechanism \u001b[38;5;129;01min\u001b[39;00m \u001b[38;5;28mself\u001b[39m\u001b[38;5;241m.\u001b[39mlist_of_mechanisms:\n\u001b[0;32m--> 120\u001b[0m     list_of_args \u001b[38;5;241m+\u001b[39m\u001b[38;5;241m=\u001b[39m \u001b[43mmechanism\u001b[49m\u001b[38;5;241;43m.\u001b[39;49m\u001b[43mget_instruction\u001b[49m\u001b[43m(\u001b[49m\u001b[43mqubits\u001b[49m\u001b[38;5;241;43m=\u001b[39;49m\u001b[43mqubits\u001b[49m\u001b[43m,\u001b[49m\u001b[43mmode\u001b[49m\u001b[38;5;241;43m=\u001b[39;49m\u001b[43mmode\u001b[49m\u001b[43m)\u001b[49m\n\u001b[1;32m    121\u001b[0m \u001b[38;5;28;01mreturn\u001b[39;00m list_of_args\n",
      "File \u001b[0;32m~/Documents/GitHub/surface_erasure_decoding/notebooks/../surface_erasure_decoding/error_model.py:58\u001b[0m, in \u001b[0;36mErrorMechanism.get_instruction\u001b[0;34m(self, qubits, mode)\u001b[0m\n\u001b[1;32m     52\u001b[0m \u001b[38;5;250m\u001b[39m\u001b[38;5;124;03m'''\u001b[39;00m\n\u001b[1;32m     53\u001b[0m \u001b[38;5;124;03mreturn list of args that can be used in  stim.circuit.append()\u001b[39;00m\n\u001b[1;32m     54\u001b[0m \u001b[38;5;124;03m'''\u001b[39;00m\n\u001b[1;32m     57\u001b[0m \u001b[38;5;28;01mif\u001b[39;00m mode \u001b[38;5;241m==\u001b[39m \u001b[38;5;124m'\u001b[39m\u001b[38;5;124mdeterministic\u001b[39m\u001b[38;5;124m'\u001b[39m:\n\u001b[0;32m---> 58\u001b[0m     instructions \u001b[38;5;241m=\u001b[39m  \u001b[38;5;28;43mself\u001b[39;49m\u001b[38;5;241;43m.\u001b[39;49m\u001b[43mdeterministic_generator\u001b[49m\u001b[38;5;241;43m.\u001b[39;49m\u001b[43mget_instruction\u001b[49m\u001b[43m(\u001b[49m\u001b[43mqubits\u001b[49m\u001b[43m,\u001b[49m\u001b[38;5;28;43mself\u001b[39;49m\u001b[38;5;241;43m.\u001b[39;49m\u001b[43mnext_dice_index_in_list\u001b[49m\u001b[43m,\u001b[49m\u001b[38;5;28;43mself\u001b[39;49m\u001b[38;5;241;43m.\u001b[39;49m\u001b[43msingle_dice_sample\u001b[49m\u001b[43m)\u001b[49m\n\u001b[1;32m     59\u001b[0m \u001b[38;5;28;01melif\u001b[39;00m mode \u001b[38;5;241m==\u001b[39m \u001b[38;5;124m'\u001b[39m\u001b[38;5;124mdummy\u001b[39m\u001b[38;5;124m'\u001b[39m:\n\u001b[1;32m     60\u001b[0m     instructions \u001b[38;5;241m=\u001b[39m  \u001b[38;5;28mself\u001b[39m\u001b[38;5;241m.\u001b[39mdummy_generator\u001b[38;5;241m.\u001b[39mget_instruction(qubits)\n",
      "File \u001b[0;32m~/Documents/GitHub/surface_erasure_decoding/notebooks/../surface_erasure_decoding/instruction_generators.py:344\u001b[0m, in \u001b[0;36mDeterministicInsGenerator.get_instruction\u001b[0;34m(self, qubits, dice_index_in_list, single_dice_sample)\u001b[0m\n\u001b[1;32m    341\u001b[0m \u001b[38;5;28;01massert\u001b[39;00m \u001b[38;5;28mlen\u001b[39m(qubits) \u001b[38;5;241m%\u001b[39m \u001b[38;5;28mself\u001b[39m\u001b[38;5;241m.\u001b[39mnum_qubits \u001b[38;5;241m==\u001b[39m \u001b[38;5;241m0\u001b[39m, \u001b[38;5;124m\"\u001b[39m\u001b[38;5;124mwrong number of qubits\u001b[39m\u001b[38;5;124m\"\u001b[39m\n\u001b[1;32m    342\u001b[0m data_qubits_array \u001b[38;5;241m=\u001b[39m np\u001b[38;5;241m.\u001b[39marray(qubits)\u001b[38;5;241m.\u001b[39mreshape(\u001b[38;5;241m-\u001b[39m\u001b[38;5;241m1\u001b[39m,\u001b[38;5;28mself\u001b[39m\u001b[38;5;241m.\u001b[39mnum_qubits)\u001b[38;5;241m.\u001b[39mT\n\u001b[0;32m--> 344\u001b[0m padded_dices,num_parallel \u001b[38;5;241m=\u001b[39m \u001b[38;5;28;43mself\u001b[39;49m\u001b[38;5;241;43m.\u001b[39;49m\u001b[43mget_padded_new_ancillas_array_update_list\u001b[49m\u001b[43m(\u001b[49m\u001b[43mdata_qubits_array\u001b[49m\u001b[43m,\u001b[49m\u001b[43mdice_index_in_list\u001b[49m\u001b[43m)\u001b[49m \u001b[38;5;66;03m# padded_dices is an array of dice idx\u001b[39;00m\n\u001b[1;32m    346\u001b[0m positive_dices \u001b[38;5;241m=\u001b[39m np\u001b[38;5;241m.\u001b[39mzeros(padded_dices\u001b[38;5;241m.\u001b[39mshape, dtype\u001b[38;5;241m=\u001b[39m\u001b[38;5;28mbool\u001b[39m) \u001b[38;5;66;03m#positive_dices is an array of dice results corresponding to padded_dices\u001b[39;00m\n\u001b[1;32m    347\u001b[0m positive_dices[\u001b[38;5;28mself\u001b[39m\u001b[38;5;241m.\u001b[39mherald_locations, :] \u001b[38;5;241m=\u001b[39m single_dice_sample[padded_dices[\u001b[38;5;28mself\u001b[39m\u001b[38;5;241m.\u001b[39mherald_locations, :]]\n",
      "File \u001b[0;32m~/Documents/GitHub/surface_erasure_decoding/notebooks/../surface_erasure_decoding/instruction_generators.py:91\u001b[0m, in \u001b[0;36mInsGeneratorConditional.get_padded_new_ancillas_array_update_list\u001b[0;34m(self, data_qubits_array, index_in_list)\u001b[0m\n\u001b[1;32m     88\u001b[0m num_ancillas\u001b[38;5;241m=\u001b[39m num_parallel \u001b[38;5;241m*\u001b[39m \u001b[38;5;28mself\u001b[39m\u001b[38;5;241m.\u001b[39mnum_herald_locations\n\u001b[1;32m     90\u001b[0m padded_ancillas \u001b[38;5;241m=\u001b[39m np\u001b[38;5;241m.\u001b[39mzeros(data_qubits_array\u001b[38;5;241m.\u001b[39mshape, dtype\u001b[38;5;241m=\u001b[39m\u001b[38;5;28mint\u001b[39m)\n\u001b[0;32m---> 91\u001b[0m counter \u001b[38;5;241m=\u001b[39m \u001b[43mindex_in_list\u001b[49m\u001b[43m[\u001b[49m\u001b[38;5;241;43m0\u001b[39;49m\u001b[43m]\u001b[49m\n\u001b[1;32m     92\u001b[0m fill_values \u001b[38;5;241m=\u001b[39m np\u001b[38;5;241m.\u001b[39marange(counter, counter \u001b[38;5;241m+\u001b[39m num_ancillas)\n\u001b[1;32m     93\u001b[0m fill_values \u001b[38;5;241m=\u001b[39m fill_values\u001b[38;5;241m.\u001b[39mreshape(num_parallel, \u001b[38;5;28mself\u001b[39m\u001b[38;5;241m.\u001b[39mnum_herald_locations)\u001b[38;5;241m.\u001b[39mT\n",
      "\u001b[0;31mTypeError\u001b[0m: 'int' object is not subscriptable"
     ]
    }
   ],
   "source": [
    "import sys\n",
    "sys.path.append('..')\n",
    "from surface_erasure_decoding import *\n",
    "from IPython.display import clear_output\n",
    "\n",
    "\n",
    "def generate_bool_array(tot, choose):\n",
    "    array = np.zeros(tot, dtype=bool)\n",
    "    indices = np.random.choice(tot, choose, replace=False)\n",
    "    assert len(indices) == choose\n",
    "    array[indices] = True\n",
    "    return array\n",
    "\n",
    "shots = 3\n",
    "d = 3\n",
    "\n",
    "num_e_flipped = 20\n",
    "num_p_flipped = 7\n",
    "\n",
    "after_cz_error_model = get_2q_error_model(p_e=0.08,\n",
    "                                            p_p=0.0033)\n",
    "builder = easure_circ_builder(rounds = d,\n",
    "                                distance= d,\n",
    "                                after_cz_error_model=after_cz_error_model,\n",
    "                                measurement_error=0\n",
    "                                )\n",
    "builder.generate_helper()\n",
    "builder.gen_dummy_circuit()\n",
    "\n",
    "# Step-1 get tot_e, tot_p\n",
    "non_trivial_gate_error_models = [attr_value for attr_name, attr_value in vars(builder).items() if isinstance(attr_value, GateErrorModel) and not  attr_value.trivial]\n",
    "assert len(non_trivial_gate_error_models) == 1\n",
    "\n",
    "tot_e = non_trivial_gate_error_models[0].name_to_mechanism['2q erasure'].dummy_generator.num_qubit_called\n",
    "tot_p = non_trivial_gate_error_models[0].name_to_mechanism['2q depo'].dummy_generator.num_qubit_called\n",
    "\n",
    "num_qubit_per_dice_e = non_trivial_gate_error_models[0].name_to_mechanism['2q erasure'].deterministic_generator.num_qubit_per_dice\n",
    "num_qubit_per_dice_p = non_trivial_gate_error_models[0].name_to_mechanism['2q depo'].deterministic_generator.num_qubit_per_dice\n",
    "\n",
    "num_dice_e = int(tot_e/num_qubit_per_dice_e)\n",
    "num_dice_p = int(tot_p/num_qubit_per_dice_p)\n",
    "\n",
    "builder.gen_erasure_conversion_circuit()\n",
    "converter = builder.erasure_circuit.compile_m2d_converter()\n",
    "\n",
    "num_errors = 0\n",
    "\n",
    "for i in range(shots):\n",
    "\n",
    "    # contrary to generating erasure conversion circuit where I sync a single measurement array with multiple GateErrorModels, \n",
    "    #   here I manually set the dice for each unique mechanism\n",
    "    e_dice_sample = generate_bool_array(num_dice_e, num_e_flipped)\n",
    "    p_dice_sample = generate_bool_array(num_dice_p, num_p_flipped)\n",
    "\n",
    "    non_trivial_gate_error_models[0].name_to_mechanism['2q erasure'].next_dice_index_in_list = [0]\n",
    "    non_trivial_gate_error_models[0].name_to_mechanism['2q depo'].next_dice_index_in_list = [0]\n",
    "\n",
    "    non_trivial_gate_error_models[0].name_to_mechanism['2q erasure'].single_dice_sample = e_dice_sample\n",
    "    non_trivial_gate_error_models[0].name_to_mechanism['2q depo'].single_dice_sample = p_dice_sample\n",
    "\n",
    "    builder.deterministic_circuit = stim.Circuit()\n",
    "    builder.gen_circuit(builder.deterministic_circuit,mode='deterministic')\n",
    "\n",
    "    sampler = builder.deterministic_circuit.compile_sampler()\n",
    "    meas_samples = sampler.sample(shots=1)\n",
    "    det_samples, actual_obs_chunk = converter.convert(measurements=meas_samples,\n",
    "                                                            separate_observables=True)\n",
    "    \n",
    "    predicted  = builder.decode_by_generate_new_circ(det_samples[0],'S',meas_samples[0])\n",
    "    num_errors += actual_obs_chunk[0][0] != predicted\n",
    "    \n",
    "    clear_output(wait=True)\n",
    "    print(f'decoding finished {100*i/shots}%')\n"
   ]
  },
  {
   "cell_type": "code",
   "execution_count": null,
   "metadata": {},
   "outputs": [],
   "source": []
  }
 ],
 "metadata": {
  "kernelspec": {
   "display_name": "qec_sim",
   "language": "python",
   "name": "python3"
  },
  "language_info": {
   "codemirror_mode": {
    "name": "ipython",
    "version": 3
   },
   "file_extension": ".py",
   "mimetype": "text/x-python",
   "name": "python",
   "nbconvert_exporter": "python",
   "pygments_lexer": "ipython3",
   "version": "3.10.14"
  }
 },
 "nbformat": 4,
 "nbformat_minor": 2
}
