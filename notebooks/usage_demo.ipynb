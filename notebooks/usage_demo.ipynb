{
 "cells": [
  {
   "cell_type": "markdown",
   "metadata": {},
   "source": [
    "# demo erasure simulatino and decoding"
   ]
  },
  {
   "cell_type": "code",
   "execution_count": 1,
   "metadata": {},
   "outputs": [
    {
     "name": "stdout",
     "output_type": "stream",
     "text": [
      "decoding finished 99.0%\n",
      "error/shots = 6/100\n"
     ]
    }
   ],
   "source": [
    "import sys\n",
    "sys.path.append('..')\n",
    "from surface_erasure_decoding import *\n",
    "from IPython.display import clear_output\n",
    "\n",
    "d = 5\n",
    "after_cz_error_model = get_2q_error_model(p_e=0.09,\n",
    "                                            p_z_shift=0, \n",
    "                                            p_p=0.002)\n",
    "builder = easure_circ_builder(rounds = d,\n",
    "                                distance= d,\n",
    "                                after_cz_error_model=after_cz_error_model,\n",
    "                                measurement_error=0\n",
    "                                )\n",
    "builder.generate_helper()\n",
    "builder.gen_erasure_conversion_circuit()\n",
    "\n",
    "shots = 100\n",
    "\n",
    "sampler = builder.erasure_circuit.compile_sampler()#expensive step, 16s for d13, 4s for d11, 0.7s for d9\n",
    "meas_samples = sampler.sample(shots=shots)\n",
    "converter = builder.erasure_circuit.compile_m2d_converter() # Expensive step\n",
    "\n",
    "det_samples, actual_obs_chunk = converter.convert(measurements=meas_samples,\n",
    "                                                        separate_observables=True)\n",
    "num_errors = 0\n",
    "for i in range(shots):\n",
    "    predicted  = builder.decode_by_generate_new_circ(det_samples[i],'S',meas_samples[i])\n",
    "    num_errors += actual_obs_chunk[i][0] != predicted\n",
    "    clear_output(wait=True)\n",
    "    print(f'decoding finished {100*i/shots}%')\n",
    "\n",
    "print(f\"error/shots = {num_errors}/{shots}\")"
   ]
  },
  {
   "cell_type": "markdown",
   "metadata": {},
   "source": [
    "# demo importance sampling"
   ]
  },
  {
   "cell_type": "code",
   "execution_count": 6,
   "metadata": {},
   "outputs": [
    {
     "name": "stdout",
     "output_type": "stream",
     "text": [
      "decoding finished 98.0%\n",
      "error/shots = 8/50, this config has weight = 0.0001621490785050091\n"
     ]
    }
   ],
   "source": [
    "import sys\n",
    "sys.path.append('..')\n",
    "from surface_erasure_decoding import *\n",
    "from IPython.display import clear_output\n",
    "\n",
    "\n",
    "def generate_bool_array(tot, choose):\n",
    "    array = np.zeros(tot, dtype=bool)\n",
    "    indices = np.random.choice(tot, choose, replace=False)\n",
    "    assert len(indices) == choose\n",
    "    array[indices] = True\n",
    "    return array\n",
    "\n",
    "def get_weight(num_dice_e,num_dice_p,num_e_flipped,num_p_flipped,p_e,p_p):\n",
    "    # Calculate binomial coefficients\n",
    "    binom_e = math.comb(num_dice_e, num_e_flipped)\n",
    "    binom_p = math.comb(num_dice_p, num_p_flipped)\n",
    "    \n",
    "    prob_e = (p_e ** num_e_flipped) * ((1 - p_e) ** (num_dice_e - num_e_flipped))\n",
    "    prob_p = (p_p ** num_p_flipped) * ((1 - p_p) ** (num_dice_p - num_p_flipped))\n",
    "    \n",
    "    # Calculate the weight\n",
    "    weight = binom_e * prob_e * binom_p * prob_p\n",
    "    \n",
    "    return weight\n",
    "\n",
    "shots = 50\n",
    "d = 5\n",
    "\n",
    "p_e=0.08\n",
    "p_p=0.001\n",
    "after_cz_error_model = get_2q_error_model(p_e=p_e,\n",
    "                                        p_p=p_p)\n",
    "builder = easure_circ_builder(rounds = d,\n",
    "                                distance= d,\n",
    "                                after_cz_error_model=after_cz_error_model,\n",
    "                                measurement_error=0\n",
    "                                )\n",
    "builder.generate_helper()\n",
    "builder.gen_dummy_circuit()\n",
    "\n",
    "# Step-1 get tot_e, tot_p\n",
    "non_trivial_gate_error_models = [attr_value for attr_name, attr_value in vars(builder).items() if isinstance(attr_value, GateErrorModel) and not  attr_value.trivial]\n",
    "assert len(non_trivial_gate_error_models) == 1\n",
    "\n",
    "tot_e = non_trivial_gate_error_models[0].name_to_mechanism['2q erasure'].dummy_generator.num_qubit_called\n",
    "tot_p = non_trivial_gate_error_models[0].name_to_mechanism['2q depo'].dummy_generator.num_qubit_called\n",
    "\n",
    "num_qubit_per_dice_e = non_trivial_gate_error_models[0].name_to_mechanism['2q erasure'].deterministic_generator.num_qubit_per_dice\n",
    "num_qubit_per_dice_p = non_trivial_gate_error_models[0].name_to_mechanism['2q depo'].deterministic_generator.num_qubit_per_dice\n",
    "\n",
    "num_dice_e = int(tot_e/num_qubit_per_dice_e)\n",
    "num_dice_p = int(tot_p/num_qubit_per_dice_p)\n",
    "\n",
    "builder.gen_erasure_conversion_circuit()\n",
    "erasure_circ_next_ancilla_qubit_index = builder.next_ancilla_qubit_index_in_list[0]\n",
    "converter = builder.erasure_circuit.compile_m2d_converter()\n",
    "\n",
    "# num_dice_e, num_dice_p\n",
    "\n",
    "num_e_flipped = int(num_dice_e/20)\n",
    "num_p_flipped = 0\n",
    "weight = get_weight(num_dice_e,num_dice_p,num_e_flipped,num_p_flipped,p_e,p_p)\n",
    "num_errors = 0\n",
    "\n",
    "for i in range(shots):\n",
    "\n",
    "    # contrary to generating erasure conversion circuit where I sync a single measurement array with multiple GateErrorModels, \n",
    "    #   here I manually set the dice for each unique mechanism\n",
    "    e_dice_sample = generate_bool_array(num_dice_e, num_e_flipped)\n",
    "    p_dice_sample = generate_bool_array(num_dice_p, num_p_flipped)\n",
    "\n",
    "    non_trivial_gate_error_models[0].name_to_mechanism['2q erasure'].next_dice_index_in_list = [0]\n",
    "    non_trivial_gate_error_models[0].name_to_mechanism['2q depo'].next_dice_index_in_list = [0]\n",
    "\n",
    "    non_trivial_gate_error_models[0].name_to_mechanism['2q erasure'].single_dice_sample = e_dice_sample\n",
    "    non_trivial_gate_error_models[0].name_to_mechanism['2q depo'].single_dice_sample = p_dice_sample\n",
    "\n",
    "    builder.deterministic_circuit = stim.Circuit()\n",
    "    builder.gen_circuit(builder.deterministic_circuit,mode='deterministic')\n",
    "    builder.deterministic_circuit.append(\"MZ\", \n",
    "                                np.arange(2*(builder.distance+1)**2, erasure_circ_next_ancilla_qubit_index, dtype=int)\n",
    "                                )  # Measure the virtual erasure ancilla qubits\n",
    "    \n",
    "    sampler = builder.deterministic_circuit.compile_sampler()\n",
    "    meas_samples = sampler.sample(shots=1)\n",
    "    det_samples, actual_obs_chunk = converter.convert(measurements=meas_samples,\n",
    "                                                            separate_observables=True)\n",
    "    \n",
    "    predicted  = builder.decode_by_generate_new_circ(det_samples[0],'S',meas_samples[0])\n",
    "    num_errors += actual_obs_chunk[0][0] != predicted\n",
    "    \n",
    "    clear_output(wait=True)\n",
    "    print(f'decoding finished {100*i/shots}%')\n",
    "\n",
    "\n",
    "print(f\"error/shots = {num_errors}/{shots}, this config has weight = {weight}\")"
   ]
  },
  {
   "cell_type": "code",
   "execution_count": null,
   "metadata": {},
   "outputs": [],
   "source": []
  }
 ],
 "metadata": {
  "kernelspec": {
   "display_name": "qec_sim",
   "language": "python",
   "name": "python3"
  },
  "language_info": {
   "codemirror_mode": {
    "name": "ipython",
    "version": 3
   },
   "file_extension": ".py",
   "mimetype": "text/x-python",
   "name": "python",
   "nbconvert_exporter": "python",
   "pygments_lexer": "ipython3",
   "version": "3.10.14"
  }
 },
 "nbformat": 4,
 "nbformat_minor": 2
}
